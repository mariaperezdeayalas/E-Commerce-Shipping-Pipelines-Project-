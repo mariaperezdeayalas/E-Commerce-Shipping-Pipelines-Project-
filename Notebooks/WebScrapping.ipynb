{
 "cells": [
  {
   "cell_type": "code",
   "execution_count": null,
   "id": "dc3c1c54",
   "metadata": {},
   "outputs": [],
   "source": [
    "%pip install BeautifulSoup4"
   ]
  },
  {
   "cell_type": "code",
   "execution_count": null,
   "id": "52cba734",
   "metadata": {},
   "outputs": [],
   "source": [
    "%pip install selenium"
   ]
  },
  {
   "cell_type": "code",
   "execution_count": null,
   "id": "dbf6c0fc",
   "metadata": {},
   "outputs": [],
   "source": [
    "%pip install webdrivermanager"
   ]
  },
  {
   "cell_type": "code",
   "execution_count": 1,
   "id": "2ff57eb2",
   "metadata": {},
   "outputs": [],
   "source": [
    "import time"
   ]
  },
  {
   "cell_type": "code",
   "execution_count": null,
   "id": "c0085fa2",
   "metadata": {},
   "outputs": [
    {
     "name": "stderr",
     "output_type": "stream",
     "text": [
      "\n",
      "\n",
      "====== WebDriver manager ======\n",
      "Current google-chrome version is 95.0.4638\n",
      "Get LATEST chromedriver version for 95.0.4638 google-chrome\n",
      "Driver [/Users/maperezdeayalas/.wdm/drivers/chromedriver/mac64/95.0.4638.69/chromedriver] found in cache\n",
      "<ipython-input-14-d60a7cd93fb3>:5: DeprecationWarning: executable_path has been deprecated, please pass in a Service object\n",
      "  driver = webdriver.Chrome(ChromeDriverManager().install())\n"
     ]
    }
   ],
   "source": [
    "from selenium import webdriver\n",
    "from webdriver_manager.chrome import ChromeDriverManager\n",
    "from time import sleep\n",
    "\n",
    "driver = webdriver.Chrome(ChromeDriverManager().install())\n",
    "driver.get('https://apps.apple.com/es/app/parcel/id375589283')\n",
    "time.sleep(5)\n",
    "driver.find_element_by_css_selector('#ember140').click()\n",
    "time.sleep(5)\n",
    "info = []\n",
    "for i in range(1,11):\n",
    "    x = driver.find_element_by_xpath(f'/html/body/div[5]/main/div[2]/section/div[2]/div[{i}]/div[2]').text\n",
    "    info.append(x)\n",
    "driver.quit()"
   ]
  },
  {
   "cell_type": "code",
   "execution_count": 10,
   "id": "96a9e420",
   "metadata": {},
   "outputs": [],
   "source": [
    "import pandas as pd"
   ]
  },
  {
   "cell_type": "code",
   "execution_count": 13,
   "id": "654fdfd3",
   "metadata": {},
   "outputs": [
    {
     "data": {
      "text/plain": [
       "['Novoart\\n, \\n06/11/2018\\nMuy buena!!\\nMerece la pena pagar por ella. Funciona de lujo!',\n",
       " 'Josema Torres\\n, \\n18/06/2021\\nFalla bastante con Amazon\\nImagino que no es culpa de la aplicación pero mi principal uso es con Amazon y, aunque se supone que tiene integración con Amazon, falla bastante.',\n",
       " 'ultrazonestudios\\n, \\n30/10/2018\\nApp muy práctica!\\nEs una aplicación muy sencilla y práctica para llevar el seguimiento de varios envíos. Escanea códigos de barras y es compatible con Apple Watch. Muy recomendable!',\n",
       " 'Alberto Fernández\\n, \\n24/10/2018\\nApp imprescindible para la empresa\\nLa llevamos usando en la empresa desde hace 2 años y actualmente es una herramienta imprescindible para el seguimiento de las compras y envíos que hacemos. Merece la pena pagar la cuota anual 👍🏻\\nMás',\n",
       " 'Lexdeloxly\\n, \\n30/10/2018\\nRecomendable\\nFácil de usar y casi siempre reconoce el servicio de mensajería a través del número de seguimiento que introduces, sino tan fácil como seleccionarlo tu mismo.\\nMás',\n",
       " 'amunne\\n, \\n10/02/2017\\nMuy útil!\\nBuena app, sencilla i fácil de utilizar. Muy práctico que reconozca automáticamente los codigos de seguimiento y las notificaciones! Merece la pena pagar 3€ al año!👏']"
      ]
     },
     "execution_count": 13,
     "metadata": {},
     "output_type": "execute_result"
    }
   ],
   "source": [
    "info"
   ]
  },
  {
   "cell_type": "code",
   "execution_count": 11,
   "id": "6f8a57a8",
   "metadata": {},
   "outputs": [
    {
     "data": {
      "text/html": [
       "<div>\n",
       "<style scoped>\n",
       "    .dataframe tbody tr th:only-of-type {\n",
       "        vertical-align: middle;\n",
       "    }\n",
       "\n",
       "    .dataframe tbody tr th {\n",
       "        vertical-align: top;\n",
       "    }\n",
       "\n",
       "    .dataframe thead th {\n",
       "        text-align: right;\n",
       "    }\n",
       "</style>\n",
       "<table border=\"1\" class=\"dataframe\">\n",
       "  <thead>\n",
       "    <tr style=\"text-align: right;\">\n",
       "      <th></th>\n",
       "      <th>0</th>\n",
       "    </tr>\n",
       "  </thead>\n",
       "  <tbody>\n",
       "    <tr>\n",
       "      <th>0</th>\n",
       "      <td>Novoart\\n, \\n06/11/2018\\nMuy buena!!\\nMerece l...</td>\n",
       "    </tr>\n",
       "    <tr>\n",
       "      <th>1</th>\n",
       "      <td>Josema Torres\\n, \\n18/06/2021\\nFalla bastante ...</td>\n",
       "    </tr>\n",
       "    <tr>\n",
       "      <th>2</th>\n",
       "      <td>ultrazonestudios\\n, \\n30/10/2018\\nApp muy prác...</td>\n",
       "    </tr>\n",
       "    <tr>\n",
       "      <th>3</th>\n",
       "      <td>Alberto Fernández\\n, \\n24/10/2018\\nApp impresc...</td>\n",
       "    </tr>\n",
       "    <tr>\n",
       "      <th>4</th>\n",
       "      <td>Lexdeloxly\\n, \\n30/10/2018\\nRecomendable\\nFáci...</td>\n",
       "    </tr>\n",
       "  </tbody>\n",
       "</table>\n",
       "</div>"
      ],
      "text/plain": [
       "                                                   0\n",
       "0  Novoart\\n, \\n06/11/2018\\nMuy buena!!\\nMerece l...\n",
       "1  Josema Torres\\n, \\n18/06/2021\\nFalla bastante ...\n",
       "2  ultrazonestudios\\n, \\n30/10/2018\\nApp muy prác...\n",
       "3  Alberto Fernández\\n, \\n24/10/2018\\nApp impresc...\n",
       "4  Lexdeloxly\\n, \\n30/10/2018\\nRecomendable\\nFáci..."
      ]
     },
     "execution_count": 11,
     "metadata": {},
     "output_type": "execute_result"
    }
   ],
   "source": [
    "pd.DataFrame(info)"
   ]
  },
  {
   "cell_type": "code",
   "execution_count": null,
   "id": "b41719c5",
   "metadata": {},
   "outputs": [],
   "source": [
    "def limpiamos_precio(x):\n",
    "    split = x.split(\"\\n\")\n",
    "    if len(split) >1:\n",
    "        return split[1]\n",
    "    else:\n",
    "        return x"
   ]
  },
  {
   "cell_type": "code",
   "execution_count": null,
   "id": "fec44bdd",
   "metadata": {},
   "outputs": [],
   "source": []
  },
  {
   "cell_type": "code",
   "execution_count": null,
   "id": "c041b148",
   "metadata": {},
   "outputs": [],
   "source": []
  },
  {
   "cell_type": "code",
   "execution_count": null,
   "id": "b0568b04",
   "metadata": {},
   "outputs": [],
   "source": [
    "import requests\n",
    "from bs4 import BeautifulSoup\n",
    "import pandas as pd"
   ]
  },
  {
   "cell_type": "code",
   "execution_count": null,
   "id": "fa44a745",
   "metadata": {},
   "outputs": [],
   "source": [
    "from selenium import webdriver\n",
    "from webdriver.manager.chrome import ChromeDriveManager\n",
    "from selenium.webdriver.chrome.options import Options\n",
    "from time import sleep"
   ]
  },
  {
   "cell_type": "code",
   "execution_count": null,
   "id": "11e18354",
   "metadata": {},
   "outputs": [],
   "source": [
    "# Now in order to help a little bit more the logistics department, and avoid having that many customer care calls, I have thought of a potential partnership with an app called 'Parcel' for our deliveries.\n",
    "# In order to select Parcel app and not another app, I have made a table with the customer reviews of the app in App Store. "
   ]
  },
  {
   "cell_type": "code",
   "execution_count": null,
   "id": "fbc9632e",
   "metadata": {},
   "outputs": [],
   "source": [
    "url = \"https://apps.apple.com/es/app/parcel/id375589283#see-all/reviews\"\n",
    "html = requests.get(url)\n",
    "soup = BeautifulSoup(html.content,\"html.parser\")"
   ]
  },
  {
   "cell_type": "code",
   "execution_count": null,
   "id": "8819897e",
   "metadata": {},
   "outputs": [],
   "source": [
    "html"
   ]
  },
  {
   "cell_type": "code",
   "execution_count": null,
   "id": "5db57499",
   "metadata": {},
   "outputs": [],
   "source": [
    "title_review = soup.findAll(\"h3\", {'class':\"we-truncate we-truncate--single-line supports-list__item__copy__heading\"})"
   ]
  },
  {
   "cell_type": "code",
   "execution_count": null,
   "id": "bfc58231",
   "metadata": {},
   "outputs": [],
   "source": [
    "title_review = soup.findAll(\"div\", {'class':\"l-row\"})"
   ]
  },
  {
   "cell_type": "code",
   "execution_count": null,
   "id": "26f08ea6",
   "metadata": {},
   "outputs": [],
   "source": [
    "title_review"
   ]
  },
  {
   "cell_type": "code",
   "execution_count": null,
   "id": "d3446190",
   "metadata": {},
   "outputs": [],
   "source": [
    "titulos = []\n",
    "for i in title_review:\n",
    "    titulos.append(i.findAll(\"h3\", { 'class': \"we-truncate we-truncate--single-line we-customer-review__title\"}))"
   ]
  },
  {
   "cell_type": "code",
   "execution_count": null,
   "id": "5dec1c09",
   "metadata": {},
   "outputs": [],
   "source": [
    "titulos"
   ]
  },
  {
   "cell_type": "code",
   "execution_count": null,
   "id": "cd82fc7d",
   "metadata": {},
   "outputs": [],
   "source": [
    "for i in title_review:\n",
    "    print(i.text)"
   ]
  },
  {
   "cell_type": "code",
   "execution_count": null,
   "id": "9c83e370",
   "metadata": {},
   "outputs": [],
   "source": [
    "title_review = soup.findAll(\"blockquote\", \n",
    "                    {\"h3\": \"we-truncate we-truncate--multi-line we-truncate--interactive we-customer-review__body\"})\n"
   ]
  },
  {
   "cell_type": "code",
   "execution_count": null,
   "id": "d4afd793",
   "metadata": {},
   "outputs": [],
   "source": []
  },
  {
   "cell_type": "code",
   "execution_count": null,
   "id": "2e35da75",
   "metadata": {},
   "outputs": [],
   "source": [
    "title_review[0]"
   ]
  },
  {
   "cell_type": "code",
   "execution_count": null,
   "id": "c53f51de",
   "metadata": {},
   "outputs": [],
   "source": [
    "title_review = soup.findAll(\"div\", {\"class\": \"customerReviewsComment__subtitle\"})"
   ]
  },
  {
   "cell_type": "code",
   "execution_count": null,
   "id": "c9992eea",
   "metadata": {},
   "outputs": [],
   "source": [
    "title_review"
   ]
  },
  {
   "cell_type": "code",
   "execution_count": null,
   "id": "97d99949",
   "metadata": {},
   "outputs": [],
   "source": [
    "title_review = soup.find_all(name = \"h3\", class_=\"we-truncate we-truncate--single-line  we-customer-review__title\")"
   ]
  },
  {
   "cell_type": "code",
   "execution_count": null,
   "id": "61286640",
   "metadata": {},
   "outputs": [],
   "source": [
    "title_review"
   ]
  },
  {
   "cell_type": "code",
   "execution_count": null,
   "id": "8ab0945b",
   "metadata": {},
   "outputs": [],
   "source": []
  },
  {
   "cell_type": "code",
   "execution_count": null,
   "id": "3c8dd2ea",
   "metadata": {},
   "outputs": [],
   "source": []
  },
  {
   "cell_type": "code",
   "execution_count": null,
   "id": "ec8242b8",
   "metadata": {},
   "outputs": [],
   "source": []
  },
  {
   "cell_type": "code",
   "execution_count": null,
   "id": "abba075d",
   "metadata": {},
   "outputs": [],
   "source": []
  },
  {
   "cell_type": "code",
   "execution_count": null,
   "id": "d10ccebf",
   "metadata": {},
   "outputs": [],
   "source": []
  }
 ],
 "metadata": {
  "kernelspec": {
   "display_name": "ironhack",
   "language": "python",
   "name": "ironhack"
  },
  "language_info": {
   "codemirror_mode": {
    "name": "ipython",
    "version": 3
   },
   "file_extension": ".py",
   "mimetype": "text/x-python",
   "name": "python",
   "nbconvert_exporter": "python",
   "pygments_lexer": "ipython3",
   "version": "3.8.10"
  }
 },
 "nbformat": 4,
 "nbformat_minor": 5
}
