{
 "cells": [
  {
   "cell_type": "code",
   "execution_count": 9,
   "id": "b7751f72",
   "metadata": {},
   "outputs": [
    {
     "name": "stdout",
     "output_type": "stream",
     "text": [
      "Collecting BeautifulSoup4\n",
      "  Using cached beautifulsoup4-4.10.0-py3-none-any.whl (97 kB)\n",
      "Collecting soupsieve>1.2\n",
      "  Using cached soupsieve-2.3-py3-none-any.whl (37 kB)\n",
      "Installing collected packages: soupsieve, BeautifulSoup4\n",
      "Successfully installed BeautifulSoup4-4.10.0 soupsieve-2.3\n",
      "Note: you may need to restart the kernel to use updated packages.\n"
     ]
    }
   ],
   "source": [
    "%pip install BeautifulSoup4"
   ]
  },
  {
   "cell_type": "code",
   "execution_count": 12,
   "id": "ea0c22c0",
   "metadata": {},
   "outputs": [],
   "source": [
    "import requests\n",
    "from bs4 import BeautifulSoup\n",
    "import pandas as pd"
   ]
  },
  {
   "cell_type": "code",
   "execution_count": null,
   "id": "585b0653",
   "metadata": {},
   "outputs": [],
   "source": [
    "# Now in order to help a little bit more the logistics department, and avoid having that many customer care calls, I have thought of a potential partnership with an app called 'Parcel' for our deliveries.\n",
    "# In order to select Parcel app and not another app, I have made a table with the customer reviews of the app in App Store. "
   ]
  },
  {
   "cell_type": "code",
   "execution_count": 48,
   "id": "bb59ed34",
   "metadata": {},
   "outputs": [],
   "source": [
    "url = \"https://apps.apple.com/es/app/parcel/id375589283#see-all/reviews\"\n",
    "html = requests.get(url)\n",
    "soup = BeautifulSoup(html.content,\"html.parser\")"
   ]
  },
  {
   "cell_type": "code",
   "execution_count": 49,
   "id": "c56938ba",
   "metadata": {},
   "outputs": [
    {
     "data": {
      "text/plain": [
       "<Response [200]>"
      ]
     },
     "execution_count": 49,
     "metadata": {},
     "output_type": "execute_result"
    }
   ],
   "source": [
    "html"
   ]
  },
  {
   "cell_type": "code",
   "execution_count": 74,
   "id": "1e21b942",
   "metadata": {},
   "outputs": [],
   "source": [
    "title_review = soup.findAll(\"blockquote\", {\"class\": \"we-truncate we-truncate--multi-line we-truncate--interactive  we-customer-review__body\"})"
   ]
  },
  {
   "cell_type": "code",
   "execution_count": 75,
   "id": "37fecce6",
   "metadata": {},
   "outputs": [
    {
     "ename": "IndexError",
     "evalue": "list index out of range",
     "output_type": "error",
     "traceback": [
      "\u001b[0;31m--------------------------------------------------\u001b[0m",
      "\u001b[0;31mIndexError\u001b[0m       Traceback (most recent call last)",
      "\u001b[0;32m<ipython-input-75-af69f70d0d5b>\u001b[0m in \u001b[0;36m<module>\u001b[0;34m\u001b[0m\n\u001b[0;32m----> 1\u001b[0;31m \u001b[0mtitle_review\u001b[0m\u001b[0;34m[\u001b[0m\u001b[0;36m0\u001b[0m\u001b[0;34m]\u001b[0m\u001b[0;34m\u001b[0m\u001b[0;34m\u001b[0m\u001b[0m\n\u001b[0m",
      "\u001b[0;31mIndexError\u001b[0m: list index out of range"
     ]
    }
   ],
   "source": [
    "title_review[0]"
   ]
  },
  {
   "cell_type": "code",
   "execution_count": 59,
   "id": "2c73f337",
   "metadata": {},
   "outputs": [],
   "source": [
    "title_review = soup.findAll(\"div\", {\"class\": \"customerReviewsComment__subtitle\"})"
   ]
  },
  {
   "cell_type": "code",
   "execution_count": 62,
   "id": "5d70cc62",
   "metadata": {},
   "outputs": [
    {
     "data": {
      "text/plain": [
       "[]"
      ]
     },
     "execution_count": 62,
     "metadata": {},
     "output_type": "execute_result"
    }
   ],
   "source": [
    "title_review"
   ]
  },
  {
   "cell_type": "code",
   "execution_count": 53,
   "id": "5462272a",
   "metadata": {},
   "outputs": [],
   "source": [
    "title_review = soup.find_all(name = \"h3\", class_=\"we-truncate we-truncate--single-line  we-customer-review__title\")"
   ]
  },
  {
   "cell_type": "code",
   "execution_count": 54,
   "id": "92cac8c5",
   "metadata": {},
   "outputs": [
    {
     "data": {
      "text/plain": [
       "[]"
      ]
     },
     "execution_count": 54,
     "metadata": {},
     "output_type": "execute_result"
    }
   ],
   "source": [
    "title_review"
   ]
  },
  {
   "cell_type": "code",
   "execution_count": null,
   "id": "d6bd0532",
   "metadata": {},
   "outputs": [],
   "source": []
  },
  {
   "cell_type": "code",
   "execution_count": null,
   "id": "d3f57b45",
   "metadata": {},
   "outputs": [],
   "source": []
  },
  {
   "cell_type": "code",
   "execution_count": null,
   "id": "70c3c7c8",
   "metadata": {},
   "outputs": [],
   "source": []
  },
  {
   "cell_type": "code",
   "execution_count": null,
   "id": "8ce4b1f8",
   "metadata": {},
   "outputs": [],
   "source": []
  },
  {
   "cell_type": "code",
   "execution_count": null,
   "id": "d1ecae19",
   "metadata": {},
   "outputs": [],
   "source": []
  }
 ],
 "metadata": {
  "kernelspec": {
   "display_name": "ironhack",
   "language": "python",
   "name": "ironhack"
  },
  "language_info": {
   "codemirror_mode": {
    "name": "ipython",
    "version": 3
   },
   "file_extension": ".py",
   "mimetype": "text/x-python",
   "name": "python",
   "nbconvert_exporter": "python",
   "pygments_lexer": "ipython3",
   "version": "3.8.10"
  }
 },
 "nbformat": 4,
 "nbformat_minor": 5
}
