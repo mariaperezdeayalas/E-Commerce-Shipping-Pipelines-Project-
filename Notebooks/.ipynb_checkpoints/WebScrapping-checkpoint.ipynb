{
 "cells": [
  {
   "cell_type": "code",
   "execution_count": null,
   "id": "1d3a33e5",
   "metadata": {},
   "outputs": [],
   "source": [
    "%pip install BeautifulSoup4"
   ]
  },
  {
   "cell_type": "code",
   "execution_count": null,
   "id": "b228feaa",
   "metadata": {},
   "outputs": [],
   "source": [
    "%pip install selenium"
   ]
  },
  {
   "cell_type": "code",
   "execution_count": null,
   "id": "33dcf23e",
   "metadata": {},
   "outputs": [],
   "source": [
    "%pip install webdrivermanager"
   ]
  },
  {
   "cell_type": "code",
   "execution_count": 1,
   "id": "cb0b4b27",
   "metadata": {},
   "outputs": [],
   "source": [
    "import time"
   ]
  },
  {
   "cell_type": "code",
   "execution_count": 6,
   "id": "f70c2328",
   "metadata": {},
   "outputs": [
    {
     "name": "stderr",
     "output_type": "stream",
     "text": [
      "\n",
      "\n",
      "====== WebDriver manager ======\n",
      "Current google-chrome version is 95.0.4638\n",
      "Get LATEST chromedriver version for 95.0.4638 google-chrome\n",
      "Driver [/Users/maperezdeayalas/.wdm/drivers/chromedriver/mac64/95.0.4638.69/chromedriver] found in cache\n",
      "<ipython-input-6-7ae9069a8060>:5: DeprecationWarning: executable_path has been deprecated, please pass in a Service object\n",
      "  driver = webdriver.Chrome(ChromeDriverManager().install())\n",
      "<ipython-input-6-7ae9069a8060>:8: DeprecationWarning: find_element_by_* commands are deprecated. Please use find_element() instead\n",
      "  driver.find_element_by_css_selector('#ember140').click()\n",
      "<ipython-input-6-7ae9069a8060>:12: DeprecationWarning: find_element_by_* commands are deprecated. Please use find_element() instead\n",
      "  x = driver.find_element_by_xpath(f'/html/body/div[5]/main/div[2]/section/div[2]/div[{i}]/div[2]').text\n"
     ]
    }
   ],
   "source": [
    "from selenium import webdriver\n",
    "from webdriver_manager.chrome import ChromeDriverManager\n",
    "from time import sleep\n",
    "\n",
    "driver = webdriver.Chrome(ChromeDriverManager().install())\n",
    "driver.get('https://apps.apple.com/es/app/parcel/id375589283')\n",
    "time.sleep(5)\n",
    "driver.find_element_by_css_selector('#ember140').click()\n",
    "time.sleep(5)\n",
    "info = []\n",
    "for i in range(1,6):\n",
    "    x = driver.find_element_by_xpath(f'/html/body/div[5]/main/div[2]/section/div[2]/div[{i}]/div[2]').text\n",
    "    info.append(x)\n",
    "driver.quit()"
   ]
  },
  {
   "cell_type": "code",
   "execution_count": 7,
   "id": "a8cc8264",
   "metadata": {},
   "outputs": [
    {
     "data": {
      "text/plain": [
       "['Novoart\\n, \\n06/11/2018\\nMuy buena!!\\nMerece la pena pagar por ella. Funciona de lujo!',\n",
       " 'Josema Torres\\n, \\n18/06/2021\\nFalla bastante con Amazon\\nImagino que no es culpa de la aplicación pero mi principal uso es con Amazon y, aunque se supone que tiene integración con Amazon, falla bastante.',\n",
       " 'ultrazonestudios\\n, \\n30/10/2018\\nApp muy práctica!\\nEs una aplicación muy sencilla y práctica para llevar el seguimiento de varios envíos. Escanea códigos de barras y es compatible con Apple Watch. Muy recomendable!',\n",
       " 'Alberto Fernández\\n, \\n24/10/2018\\nApp imprescindible para la empresa\\nLa llevamos usando en la empresa desde hace 2 años y actualmente es una herramienta imprescindible para el seguimiento de las compras y envíos que hacemos. Merece la pena pagar la cuota anual 👍🏻\\nMás',\n",
       " 'Lexdeloxly\\n, \\n30/10/2018\\nRecomendable\\nFácil de usar y casi siempre reconoce el servicio de mensajería a través del número de seguimiento que introduces, sino tan fácil como seleccionarlo tu mismo.\\nMás']"
      ]
     },
     "execution_count": 7,
     "metadata": {},
     "output_type": "execute_result"
    }
   ],
   "source": [
    "info"
   ]
  },
  {
   "cell_type": "code",
   "execution_count": null,
   "id": "d5fc66e5",
   "metadata": {},
   "outputs": [],
   "source": [
    "import requests\n",
    "from bs4 import BeautifulSoup\n",
    "import pandas as pd"
   ]
  },
  {
   "cell_type": "code",
   "execution_count": null,
   "id": "c07da036",
   "metadata": {},
   "outputs": [],
   "source": [
    "from selenium import webdriver\n",
    "from webdriver.manager.chrome import ChromeDriveManager\n",
    "from selenium.webdriver.chrome.options import Options\n",
    "from time import sleep"
   ]
  },
  {
   "cell_type": "code",
   "execution_count": null,
   "id": "adab9c15",
   "metadata": {},
   "outputs": [],
   "source": [
    "# Now in order to help a little bit more the logistics department, and avoid having that many customer care calls, I have thought of a potential partnership with an app called 'Parcel' for our deliveries.\n",
    "# In order to select Parcel app and not another app, I have made a table with the customer reviews of the app in App Store. "
   ]
  },
  {
   "cell_type": "code",
   "execution_count": null,
   "id": "0d598fd2",
   "metadata": {},
   "outputs": [],
   "source": [
    "url = \"https://apps.apple.com/es/app/parcel/id375589283#see-all/reviews\"\n",
    "html = requests.get(url)\n",
    "soup = BeautifulSoup(html.content,\"html.parser\")"
   ]
  },
  {
   "cell_type": "code",
   "execution_count": null,
   "id": "b02b25b6",
   "metadata": {},
   "outputs": [],
   "source": [
    "html"
   ]
  },
  {
   "cell_type": "code",
   "execution_count": null,
   "id": "a6a3010a",
   "metadata": {},
   "outputs": [],
   "source": [
    "title_review = soup.findAll(\"h3\", {'class':\"we-truncate we-truncate--single-line supports-list__item__copy__heading\"})"
   ]
  },
  {
   "cell_type": "code",
   "execution_count": null,
   "id": "583efae6",
   "metadata": {},
   "outputs": [],
   "source": [
    "title_review = soup.findAll(\"div\", {'class':\"l-row\"})"
   ]
  },
  {
   "cell_type": "code",
   "execution_count": null,
   "id": "6d2d6d4c",
   "metadata": {},
   "outputs": [],
   "source": [
    "title_review"
   ]
  },
  {
   "cell_type": "code",
   "execution_count": null,
   "id": "2d44a640",
   "metadata": {},
   "outputs": [],
   "source": [
    "titulos = []\n",
    "for i in title_review:\n",
    "    titulos.append(i.findAll(\"h3\", { 'class': \"we-truncate we-truncate--single-line we-customer-review__title\"}))"
   ]
  },
  {
   "cell_type": "code",
   "execution_count": null,
   "id": "ecf72653",
   "metadata": {},
   "outputs": [],
   "source": [
    "titulos"
   ]
  },
  {
   "cell_type": "code",
   "execution_count": null,
   "id": "6b962b27",
   "metadata": {},
   "outputs": [],
   "source": [
    "for i in title_review:\n",
    "    print(i.text)"
   ]
  },
  {
   "cell_type": "code",
   "execution_count": null,
   "id": "391fd843",
   "metadata": {},
   "outputs": [],
   "source": [
    "title_review = soup.findAll(\"blockquote\", \n",
    "                    {\"h3\": \"we-truncate we-truncate--multi-line we-truncate--interactive we-customer-review__body\"})\n"
   ]
  },
  {
   "cell_type": "code",
   "execution_count": null,
   "id": "95fc66a8",
   "metadata": {},
   "outputs": [],
   "source": []
  },
  {
   "cell_type": "code",
   "execution_count": null,
   "id": "d832ee7f",
   "metadata": {},
   "outputs": [],
   "source": [
    "title_review[0]"
   ]
  },
  {
   "cell_type": "code",
   "execution_count": null,
   "id": "a3bf67c3",
   "metadata": {},
   "outputs": [],
   "source": [
    "title_review = soup.findAll(\"div\", {\"class\": \"customerReviewsComment__subtitle\"})"
   ]
  },
  {
   "cell_type": "code",
   "execution_count": null,
   "id": "446ce9c9",
   "metadata": {},
   "outputs": [],
   "source": [
    "title_review"
   ]
  },
  {
   "cell_type": "code",
   "execution_count": null,
   "id": "66dad230",
   "metadata": {},
   "outputs": [],
   "source": [
    "title_review = soup.find_all(name = \"h3\", class_=\"we-truncate we-truncate--single-line  we-customer-review__title\")"
   ]
  },
  {
   "cell_type": "code",
   "execution_count": null,
   "id": "d4b9b73f",
   "metadata": {},
   "outputs": [],
   "source": [
    "title_review"
   ]
  },
  {
   "cell_type": "code",
   "execution_count": null,
   "id": "9a55ec7d",
   "metadata": {},
   "outputs": [],
   "source": []
  },
  {
   "cell_type": "code",
   "execution_count": null,
   "id": "bdf788d6",
   "metadata": {},
   "outputs": [],
   "source": []
  },
  {
   "cell_type": "code",
   "execution_count": null,
   "id": "fd7a4c9f",
   "metadata": {},
   "outputs": [],
   "source": []
  },
  {
   "cell_type": "code",
   "execution_count": null,
   "id": "47937e54",
   "metadata": {},
   "outputs": [],
   "source": []
  },
  {
   "cell_type": "code",
   "execution_count": null,
   "id": "7361c17f",
   "metadata": {},
   "outputs": [],
   "source": []
  }
 ],
 "metadata": {
  "kernelspec": {
   "display_name": "ironhack",
   "language": "python",
   "name": "ironhack"
  },
  "language_info": {
   "codemirror_mode": {
    "name": "ipython",
    "version": 3
   },
   "file_extension": ".py",
   "mimetype": "text/x-python",
   "name": "python",
   "nbconvert_exporter": "python",
   "pygments_lexer": "ipython3",
   "version": "3.8.10"
  }
 },
 "nbformat": 4,
 "nbformat_minor": 5
}
