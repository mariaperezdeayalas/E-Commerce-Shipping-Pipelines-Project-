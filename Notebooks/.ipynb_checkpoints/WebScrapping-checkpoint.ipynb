{
 "cells": [
  {
   "cell_type": "markdown",
   "id": "33ca66f4",
   "metadata": {},
   "source": [
    "# Web Scraping"
   ]
  },
  {
   "cell_type": "code",
   "execution_count": null,
   "id": "6c99a1c2",
   "metadata": {},
   "outputs": [],
   "source": [
    "%pip install BeautifulSoup4"
   ]
  },
  {
   "cell_type": "code",
   "execution_count": null,
   "id": "331bbc6a",
   "metadata": {},
   "outputs": [],
   "source": [
    "%pip install selenium"
   ]
  },
  {
   "cell_type": "code",
   "execution_count": null,
   "id": "38018cb3",
   "metadata": {},
   "outputs": [],
   "source": [
    "%pip install webdrivermanager"
   ]
  },
  {
   "cell_type": "markdown",
   "id": "4e096900",
   "metadata": {},
   "source": [
    "### Now in order to enrich more the dataset and the logistic department, it would be great to avoid even more having too many customer care calls. For this, the company could partner with an app like Parcel to ease customers' lives. \n",
    "### I have first search the best app for delivery tracking, which is Parcel. Then, with web scraping to convince the company Parcel is the best app for this, I have taken the App Store reviews to show current Parcel customers opinions on it.\n",
    "### Below in the table some of the reviews taken with web scrapping & selenium."
   ]
  },
  {
   "cell_type": "code",
   "execution_count": 1,
   "id": "81b8c53a",
   "metadata": {},
   "outputs": [],
   "source": [
    "import time"
   ]
  },
  {
   "cell_type": "code",
   "execution_count": 51,
   "id": "b1e53213",
   "metadata": {},
   "outputs": [
    {
     "name": "stderr",
     "output_type": "stream",
     "text": [
      "\n",
      "\n",
      "====== WebDriver manager ======\n",
      "Current google-chrome version is 95.0.4638\n",
      "Get LATEST chromedriver version for 95.0.4638 google-chrome\n",
      "Driver [/Users/maperezdeayalas/.wdm/drivers/chromedriver/mac64/95.0.4638.69/chromedriver] found in cache\n",
      "<ipython-input-51-d60a7cd93fb3>:5: DeprecationWarning: executable_path has been deprecated, please pass in a Service object\n",
      "  driver = webdriver.Chrome(ChromeDriverManager().install())\n",
      "<ipython-input-51-d60a7cd93fb3>:8: DeprecationWarning: find_element_by_* commands are deprecated. Please use find_element() instead\n",
      "  driver.find_element_by_css_selector('#ember140').click()\n",
      "<ipython-input-51-d60a7cd93fb3>:12: DeprecationWarning: find_element_by_* commands are deprecated. Please use find_element() instead\n",
      "  x = driver.find_element_by_xpath(f'/html/body/div[5]/main/div[2]/section/div[2]/div[{i}]/div[2]').text\n"
     ]
    }
   ],
   "source": [
    "from selenium import webdriver\n",
    "from webdriver_manager.chrome import ChromeDriverManager\n",
    "from time import sleep\n",
    "\n",
    "driver = webdriver.Chrome(ChromeDriverManager().install())\n",
    "driver.get('https://apps.apple.com/es/app/parcel/id375589283')\n",
    "time.sleep(5)\n",
    "driver.find_element_by_css_selector('#ember140').click()\n",
    "time.sleep(5)\n",
    "info = []\n",
    "for i in range(1,11):\n",
    "    x = driver.find_element_by_xpath(f'/html/body/div[5]/main/div[2]/section/div[2]/div[{i}]/div[2]').text\n",
    "    info.append(x)\n",
    "driver.quit()"
   ]
  },
  {
   "cell_type": "code",
   "execution_count": 10,
   "id": "b1ccdd60",
   "metadata": {},
   "outputs": [],
   "source": [
    "import pandas as pd"
   ]
  },
  {
   "cell_type": "code",
   "execution_count": 52,
   "id": "bd33dc46",
   "metadata": {},
   "outputs": [
    {
     "data": {
      "text/plain": [
       "['Novoart\\n, \\n06/11/2018\\nMuy buena!!\\nMerece la pena pagar por ella. Funciona de lujo!',\n",
       " 'Josema Torres\\n, \\n18/06/2021\\nFalla bastante con Amazon\\nImagino que no es culpa de la aplicación pero mi principal uso es con Amazon y, aunque se supone que tiene integración con Amazon, falla bastante.',\n",
       " 'ultrazonestudios\\n, \\n30/10/2018\\nApp muy práctica!\\nEs una aplicación muy sencilla y práctica para llevar el seguimiento de varios envíos. Escanea códigos de barras y es compatible con Apple Watch. Muy recomendable!',\n",
       " 'Alberto Fernández\\n, \\n24/10/2018\\nApp imprescindible para la empresa\\nLa llevamos usando en la empresa desde hace 2 años y actualmente es una herramienta imprescindible para el seguimiento de las compras y envíos que hacemos. Merece la pena pagar la cuota anual 👍🏻\\nMás',\n",
       " 'Lexdeloxly\\n, \\n30/10/2018\\nRecomendable\\nFácil de usar y casi siempre reconoce el servicio de mensajería a través del número de seguimiento que introduces, sino tan fácil como seleccionarlo tu mismo.\\nMás',\n",
       " 'amunne\\n, \\n10/02/2017\\nMuy útil!\\nBuena app, sencilla i fácil de utilizar. Muy práctico que reconozca automáticamente los codigos de seguimiento y las notificaciones! Merece la pena pagar 3€ al año!👏',\n",
       " 'makey_castro\\n, \\n07/02/2017\\nMuy útil\\nPara hacer seguimiento de tus pedidos, se ha convertido en imprescindible',\n",
       " 'C.Clavo\\n, \\n16/10/2021\\n¡Genial!\\nPerfecta, sencilla y multi-plataforma. Contacté con el desarrollador porque no podía añadir un envío de SEUR y me ayudó a resolverlo. Vale la pena suscribirse por apenas tres euros al año. El nuevo diseño es una pasada.\\nMás',\n",
       " 'emilioXC\\n, \\n05/06/2021\\nMuy buena, pero falta traducción al Español\\nMe parece muy completa, de echo que me suscribí. No le doy la quinta estrella por que me gustaría que estuviese en idioma Español. Sugerencia al desarrollador, Yo la aconsejo en mis círculos de trabajo y amistades, pero sin esa traducción…. 👎\\nMás',\n",
       " 'ajibarra\\n, \\n04/11/2021\\nGood app but…\\nThe app is good. However the tracking for Amazon Packages is terrible, usually better to use the Amazon app.\\n\\n\\nMás']"
      ]
     },
     "execution_count": 52,
     "metadata": {},
     "output_type": "execute_result"
    }
   ],
   "source": [
    "info"
   ]
  },
  {
   "cell_type": "code",
   "execution_count": 21,
   "id": "6057f746",
   "metadata": {},
   "outputs": [],
   "source": [
    "a = 'ajibarra\\n, \\n04/11/2021\\nGood app but…\\nThe app is good. However the tracking for Amazon Packages is terrible, usually better to use the Amazon app.\\n\\n\\nMás'"
   ]
  },
  {
   "cell_type": "code",
   "execution_count": 23,
   "id": "dabb0577",
   "metadata": {},
   "outputs": [
    {
     "data": {
      "text/plain": [
       "['ajibarra',\n",
       " ', ',\n",
       " '04/11/2021',\n",
       " 'Good app but…',\n",
       " 'The app is good. However the tracking for Amazon Packages is terrible, usually better to use the Amazon app.',\n",
       " '',\n",
       " '',\n",
       " 'Más']"
      ]
     },
     "execution_count": 23,
     "metadata": {},
     "output_type": "execute_result"
    }
   ],
   "source": [
    "a.split(\"\\n\")"
   ]
  },
  {
   "cell_type": "code",
   "execution_count": 24,
   "id": "e64941e9",
   "metadata": {},
   "outputs": [],
   "source": [
    "df = pd.DataFrame(info)"
   ]
  },
  {
   "cell_type": "code",
   "execution_count": 25,
   "id": "5c9c9899",
   "metadata": {},
   "outputs": [
    {
     "data": {
      "text/html": [
       "<div>\n",
       "<style scoped>\n",
       "    .dataframe tbody tr th:only-of-type {\n",
       "        vertical-align: middle;\n",
       "    }\n",
       "\n",
       "    .dataframe tbody tr th {\n",
       "        vertical-align: top;\n",
       "    }\n",
       "\n",
       "    .dataframe thead th {\n",
       "        text-align: right;\n",
       "    }\n",
       "</style>\n",
       "<table border=\"1\" class=\"dataframe\">\n",
       "  <thead>\n",
       "    <tr style=\"text-align: right;\">\n",
       "      <th></th>\n",
       "      <th>0</th>\n",
       "    </tr>\n",
       "  </thead>\n",
       "  <tbody>\n",
       "    <tr>\n",
       "      <th>0</th>\n",
       "      <td>Novoart\\n, \\n06/11/2018\\nMuy buena!!\\nMerece l...</td>\n",
       "    </tr>\n",
       "    <tr>\n",
       "      <th>1</th>\n",
       "      <td>Josema Torres\\n, \\n18/06/2021\\nFalla bastante ...</td>\n",
       "    </tr>\n",
       "    <tr>\n",
       "      <th>2</th>\n",
       "      <td>ultrazonestudios\\n, \\n30/10/2018\\nApp muy prác...</td>\n",
       "    </tr>\n",
       "    <tr>\n",
       "      <th>3</th>\n",
       "      <td>Alberto Fernández\\n, \\n24/10/2018\\nApp impresc...</td>\n",
       "    </tr>\n",
       "    <tr>\n",
       "      <th>4</th>\n",
       "      <td>Lexdeloxly\\n, \\n30/10/2018\\nRecomendable\\nFáci...</td>\n",
       "    </tr>\n",
       "    <tr>\n",
       "      <th>5</th>\n",
       "      <td>amunne\\n, \\n10/02/2017\\nMuy útil!\\nBuena app, ...</td>\n",
       "    </tr>\n",
       "    <tr>\n",
       "      <th>6</th>\n",
       "      <td>makey_castro\\n, \\n07/02/2017\\nMuy útil\\nPara h...</td>\n",
       "    </tr>\n",
       "    <tr>\n",
       "      <th>7</th>\n",
       "      <td>C.Clavo\\n, \\n16/10/2021\\n¡Genial!\\nPerfecta, s...</td>\n",
       "    </tr>\n",
       "    <tr>\n",
       "      <th>8</th>\n",
       "      <td>emilioXC\\n, \\n05/06/2021\\nMuy buena, pero falt...</td>\n",
       "    </tr>\n",
       "    <tr>\n",
       "      <th>9</th>\n",
       "      <td>ajibarra\\n, \\n04/11/2021\\nGood app but…\\nThe a...</td>\n",
       "    </tr>\n",
       "  </tbody>\n",
       "</table>\n",
       "</div>"
      ],
      "text/plain": [
       "                                                   0\n",
       "0  Novoart\\n, \\n06/11/2018\\nMuy buena!!\\nMerece l...\n",
       "1  Josema Torres\\n, \\n18/06/2021\\nFalla bastante ...\n",
       "2  ultrazonestudios\\n, \\n30/10/2018\\nApp muy prác...\n",
       "3  Alberto Fernández\\n, \\n24/10/2018\\nApp impresc...\n",
       "4  Lexdeloxly\\n, \\n30/10/2018\\nRecomendable\\nFáci...\n",
       "5  amunne\\n, \\n10/02/2017\\nMuy útil!\\nBuena app, ...\n",
       "6  makey_castro\\n, \\n07/02/2017\\nMuy útil\\nPara h...\n",
       "7  C.Clavo\\n, \\n16/10/2021\\n¡Genial!\\nPerfecta, s...\n",
       "8  emilioXC\\n, \\n05/06/2021\\nMuy buena, pero falt...\n",
       "9  ajibarra\\n, \\n04/11/2021\\nGood app but…\\nThe a..."
      ]
     },
     "execution_count": 25,
     "metadata": {},
     "output_type": "execute_result"
    }
   ],
   "source": [
    "df"
   ]
  },
  {
   "cell_type": "code",
   "execution_count": 17,
   "id": "a5d3918c",
   "metadata": {},
   "outputs": [],
   "source": [
    "def limpiamos_review(x):\n",
    "    split = x.split(\"\\n\")\n",
    "    if len(split) >1:\n",
    "        return split[3]\n",
    "    else:\n",
    "        return x"
   ]
  },
  {
   "cell_type": "code",
   "execution_count": 45,
   "id": "7f20f0db",
   "metadata": {},
   "outputs": [],
   "source": [
    "df['Reviews'] = df[0].apply(limpiamos_review)"
   ]
  },
  {
   "cell_type": "code",
   "execution_count": 46,
   "id": "a728030d",
   "metadata": {
    "scrolled": true
   },
   "outputs": [
    {
     "data": {
      "text/html": [
       "<div>\n",
       "<style scoped>\n",
       "    .dataframe tbody tr th:only-of-type {\n",
       "        vertical-align: middle;\n",
       "    }\n",
       "\n",
       "    .dataframe tbody tr th {\n",
       "        vertical-align: top;\n",
       "    }\n",
       "\n",
       "    .dataframe thead th {\n",
       "        text-align: right;\n",
       "    }\n",
       "</style>\n",
       "<table border=\"1\" class=\"dataframe\">\n",
       "  <thead>\n",
       "    <tr style=\"text-align: right;\">\n",
       "      <th></th>\n",
       "      <th>0</th>\n",
       "      <th>nueva columna</th>\n",
       "      <th>reviews</th>\n",
       "      <th>Reviews</th>\n",
       "    </tr>\n",
       "  </thead>\n",
       "  <tbody>\n",
       "    <tr>\n",
       "      <th>0</th>\n",
       "      <td>Novoart\\n, \\n06/11/2018\\nMuy buena!!\\nMerece l...</td>\n",
       "      <td>Muy buena!!</td>\n",
       "      <td>Muy buena!!</td>\n",
       "      <td>Muy buena!!</td>\n",
       "    </tr>\n",
       "    <tr>\n",
       "      <th>1</th>\n",
       "      <td>Josema Torres\\n, \\n18/06/2021\\nFalla bastante ...</td>\n",
       "      <td>Falla bastante con Amazon</td>\n",
       "      <td>Falla bastante con Amazon</td>\n",
       "      <td>Falla bastante con Amazon</td>\n",
       "    </tr>\n",
       "    <tr>\n",
       "      <th>2</th>\n",
       "      <td>ultrazonestudios\\n, \\n30/10/2018\\nApp muy prác...</td>\n",
       "      <td>App muy práctica!</td>\n",
       "      <td>App muy práctica!</td>\n",
       "      <td>App muy práctica!</td>\n",
       "    </tr>\n",
       "    <tr>\n",
       "      <th>3</th>\n",
       "      <td>Alberto Fernández\\n, \\n24/10/2018\\nApp impresc...</td>\n",
       "      <td>App imprescindible para la empresa</td>\n",
       "      <td>App imprescindible para la empresa</td>\n",
       "      <td>App imprescindible para la empresa</td>\n",
       "    </tr>\n",
       "    <tr>\n",
       "      <th>4</th>\n",
       "      <td>Lexdeloxly\\n, \\n30/10/2018\\nRecomendable\\nFáci...</td>\n",
       "      <td>Recomendable</td>\n",
       "      <td>Recomendable</td>\n",
       "      <td>Recomendable</td>\n",
       "    </tr>\n",
       "    <tr>\n",
       "      <th>5</th>\n",
       "      <td>amunne\\n, \\n10/02/2017\\nMuy útil!\\nBuena app, ...</td>\n",
       "      <td>Muy útil!</td>\n",
       "      <td>Muy útil!</td>\n",
       "      <td>Muy útil!</td>\n",
       "    </tr>\n",
       "    <tr>\n",
       "      <th>6</th>\n",
       "      <td>makey_castro\\n, \\n07/02/2017\\nMuy útil\\nPara h...</td>\n",
       "      <td>Muy útil</td>\n",
       "      <td>Muy útil</td>\n",
       "      <td>Muy útil</td>\n",
       "    </tr>\n",
       "    <tr>\n",
       "      <th>7</th>\n",
       "      <td>C.Clavo\\n, \\n16/10/2021\\n¡Genial!\\nPerfecta, s...</td>\n",
       "      <td>¡Genial!</td>\n",
       "      <td>¡Genial!</td>\n",
       "      <td>¡Genial!</td>\n",
       "    </tr>\n",
       "    <tr>\n",
       "      <th>8</th>\n",
       "      <td>emilioXC\\n, \\n05/06/2021\\nMuy buena, pero falt...</td>\n",
       "      <td>Muy buena, pero falta traducción al Español</td>\n",
       "      <td>Muy buena, pero falta traducción al Español</td>\n",
       "      <td>Muy buena, pero falta traducción al Español</td>\n",
       "    </tr>\n",
       "    <tr>\n",
       "      <th>9</th>\n",
       "      <td>ajibarra\\n, \\n04/11/2021\\nGood app but…\\nThe a...</td>\n",
       "      <td>Good app but…</td>\n",
       "      <td>Good app but…</td>\n",
       "      <td>Good app but…</td>\n",
       "    </tr>\n",
       "  </tbody>\n",
       "</table>\n",
       "</div>"
      ],
      "text/plain": [
       "                                                   0  \\\n",
       "0  Novoart\\n, \\n06/11/2018\\nMuy buena!!\\nMerece l...   \n",
       "1  Josema Torres\\n, \\n18/06/2021\\nFalla bastante ...   \n",
       "2  ultrazonestudios\\n, \\n30/10/2018\\nApp muy prác...   \n",
       "3  Alberto Fernández\\n, \\n24/10/2018\\nApp impresc...   \n",
       "4  Lexdeloxly\\n, \\n30/10/2018\\nRecomendable\\nFáci...   \n",
       "5  amunne\\n, \\n10/02/2017\\nMuy útil!\\nBuena app, ...   \n",
       "6  makey_castro\\n, \\n07/02/2017\\nMuy útil\\nPara h...   \n",
       "7  C.Clavo\\n, \\n16/10/2021\\n¡Genial!\\nPerfecta, s...   \n",
       "8  emilioXC\\n, \\n05/06/2021\\nMuy buena, pero falt...   \n",
       "9  ajibarra\\n, \\n04/11/2021\\nGood app but…\\nThe a...   \n",
       "\n",
       "                                 nueva columna  \\\n",
       "0                                  Muy buena!!   \n",
       "1                    Falla bastante con Amazon   \n",
       "2                            App muy práctica!   \n",
       "3           App imprescindible para la empresa   \n",
       "4                                 Recomendable   \n",
       "5                                    Muy útil!   \n",
       "6                                     Muy útil   \n",
       "7                                     ¡Genial!   \n",
       "8  Muy buena, pero falta traducción al Español   \n",
       "9                                Good app but…   \n",
       "\n",
       "                                       reviews  \\\n",
       "0                                  Muy buena!!   \n",
       "1                    Falla bastante con Amazon   \n",
       "2                            App muy práctica!   \n",
       "3           App imprescindible para la empresa   \n",
       "4                                 Recomendable   \n",
       "5                                    Muy útil!   \n",
       "6                                     Muy útil   \n",
       "7                                     ¡Genial!   \n",
       "8  Muy buena, pero falta traducción al Español   \n",
       "9                                Good app but…   \n",
       "\n",
       "                                       Reviews  \n",
       "0                                  Muy buena!!  \n",
       "1                    Falla bastante con Amazon  \n",
       "2                            App muy práctica!  \n",
       "3           App imprescindible para la empresa  \n",
       "4                                 Recomendable  \n",
       "5                                    Muy útil!  \n",
       "6                                     Muy útil  \n",
       "7                                     ¡Genial!  \n",
       "8  Muy buena, pero falta traducción al Español  \n",
       "9                                Good app but…  "
      ]
     },
     "execution_count": 46,
     "metadata": {},
     "output_type": "execute_result"
    }
   ],
   "source": [
    "df"
   ]
  },
  {
   "cell_type": "code",
   "execution_count": 47,
   "id": "eb4415a6",
   "metadata": {},
   "outputs": [],
   "source": [
    "reviews = df.drop([0, 'nueva columna', 'reviews'], axis=1)"
   ]
  },
  {
   "cell_type": "code",
   "execution_count": 54,
   "id": "ff3a2ac9",
   "metadata": {},
   "outputs": [
    {
     "data": {
      "text/html": [
       "<div>\n",
       "<style scoped>\n",
       "    .dataframe tbody tr th:only-of-type {\n",
       "        vertical-align: middle;\n",
       "    }\n",
       "\n",
       "    .dataframe tbody tr th {\n",
       "        vertical-align: top;\n",
       "    }\n",
       "\n",
       "    .dataframe thead th {\n",
       "        text-align: right;\n",
       "    }\n",
       "</style>\n",
       "<table border=\"1\" class=\"dataframe\">\n",
       "  <thead>\n",
       "    <tr style=\"text-align: right;\">\n",
       "      <th></th>\n",
       "      <th>Reviews</th>\n",
       "    </tr>\n",
       "  </thead>\n",
       "  <tbody>\n",
       "    <tr>\n",
       "      <th>0</th>\n",
       "      <td>Muy buena!!</td>\n",
       "    </tr>\n",
       "    <tr>\n",
       "      <th>1</th>\n",
       "      <td>Falla bastante con Amazon</td>\n",
       "    </tr>\n",
       "    <tr>\n",
       "      <th>2</th>\n",
       "      <td>App muy práctica!</td>\n",
       "    </tr>\n",
       "    <tr>\n",
       "      <th>3</th>\n",
       "      <td>App imprescindible para la empresa</td>\n",
       "    </tr>\n",
       "    <tr>\n",
       "      <th>4</th>\n",
       "      <td>Recomendable</td>\n",
       "    </tr>\n",
       "    <tr>\n",
       "      <th>5</th>\n",
       "      <td>Muy útil!</td>\n",
       "    </tr>\n",
       "    <tr>\n",
       "      <th>6</th>\n",
       "      <td>Muy útil</td>\n",
       "    </tr>\n",
       "    <tr>\n",
       "      <th>7</th>\n",
       "      <td>¡Genial!</td>\n",
       "    </tr>\n",
       "    <tr>\n",
       "      <th>8</th>\n",
       "      <td>Muy buena, pero falta traducción al Español</td>\n",
       "    </tr>\n",
       "    <tr>\n",
       "      <th>9</th>\n",
       "      <td>Good app but…</td>\n",
       "    </tr>\n",
       "  </tbody>\n",
       "</table>\n",
       "</div>"
      ],
      "text/plain": [
       "                                       Reviews\n",
       "0                                  Muy buena!!\n",
       "1                    Falla bastante con Amazon\n",
       "2                            App muy práctica!\n",
       "3           App imprescindible para la empresa\n",
       "4                                 Recomendable\n",
       "5                                    Muy útil!\n",
       "6                                     Muy útil\n",
       "7                                     ¡Genial!\n",
       "8  Muy buena, pero falta traducción al Español\n",
       "9                                Good app but…"
      ]
     },
     "execution_count": 54,
     "metadata": {},
     "output_type": "execute_result"
    }
   ],
   "source": [
    "reviews"
   ]
  }
 ],
 "metadata": {
  "kernelspec": {
   "display_name": "ironhack",
   "language": "python",
   "name": "ironhack"
  },
  "language_info": {
   "codemirror_mode": {
    "name": "ipython",
    "version": 3
   },
   "file_extension": ".py",
   "mimetype": "text/x-python",
   "name": "python",
   "nbconvert_exporter": "python",
   "pygments_lexer": "ipython3",
   "version": "3.8.10"
  }
 },
 "nbformat": 4,
 "nbformat_minor": 5
}
