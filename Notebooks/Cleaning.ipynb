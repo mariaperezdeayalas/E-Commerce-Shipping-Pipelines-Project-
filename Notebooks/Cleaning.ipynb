{
 "cells": [
  {
   "cell_type": "code",
   "execution_count": 1,
   "id": "0e60707b",
   "metadata": {},
   "outputs": [],
   "source": [
    "import pandas as pd\n",
    "import numpy as np\n",
    "import warnings\n",
    "warnings.filterwarnings(\"ignore\")"
   ]
  },
  {
   "cell_type": "code",
   "execution_count": 2,
   "id": "76990d18",
   "metadata": {},
   "outputs": [],
   "source": [
    "import sys\n",
    "sys.path.append('/Users/maperezdeayalas/Documents/Ironhack/E_Commerce_Shipping_Pipelines_Project/SRC')\n",
    "import cleaning_functions as fc"
   ]
  },
  {
   "cell_type": "code",
   "execution_count": 3,
   "id": "300b4568",
   "metadata": {},
   "outputs": [],
   "source": [
    "df = pd.read_csv(\"../data/Train.csv\",encoding = \"ISO-8859-1\")"
   ]
  },
  {
   "cell_type": "code",
   "execution_count": 4,
   "id": "4c64d4f5",
   "metadata": {},
   "outputs": [],
   "source": [
    "# First visualization of the dataset "
   ]
  },
  {
   "cell_type": "code",
   "execution_count": 5,
   "id": "b540efb9",
   "metadata": {},
   "outputs": [
    {
     "data": {
      "text/html": [
       "<div>\n",
       "<style scoped>\n",
       "    .dataframe tbody tr th:only-of-type {\n",
       "        vertical-align: middle;\n",
       "    }\n",
       "\n",
       "    .dataframe tbody tr th {\n",
       "        vertical-align: top;\n",
       "    }\n",
       "\n",
       "    .dataframe thead th {\n",
       "        text-align: right;\n",
       "    }\n",
       "</style>\n",
       "<table border=\"1\" class=\"dataframe\">\n",
       "  <thead>\n",
       "    <tr style=\"text-align: right;\">\n",
       "      <th></th>\n",
       "      <th>ï»¿ID</th>\n",
       "      <th>Warehouse_block</th>\n",
       "      <th>Mode_of_Shipment</th>\n",
       "      <th>Customer_care_calls</th>\n",
       "      <th>Customer_rating</th>\n",
       "      <th>Cost_of_the_Product</th>\n",
       "      <th>Prior_purchases</th>\n",
       "      <th>Product_importance</th>\n",
       "      <th>Gender</th>\n",
       "      <th>Discount_offered</th>\n",
       "      <th>Weight_in_gms</th>\n",
       "      <th>Reached.on.Time_Y.N</th>\n",
       "    </tr>\n",
       "  </thead>\n",
       "  <tbody>\n",
       "    <tr>\n",
       "      <th>0</th>\n",
       "      <td>1</td>\n",
       "      <td>D</td>\n",
       "      <td>Flight</td>\n",
       "      <td>4</td>\n",
       "      <td>2</td>\n",
       "      <td>177</td>\n",
       "      <td>3</td>\n",
       "      <td>low</td>\n",
       "      <td>F</td>\n",
       "      <td>44</td>\n",
       "      <td>1233</td>\n",
       "      <td>1</td>\n",
       "    </tr>\n",
       "    <tr>\n",
       "      <th>1</th>\n",
       "      <td>2</td>\n",
       "      <td>F</td>\n",
       "      <td>Flight</td>\n",
       "      <td>4</td>\n",
       "      <td>5</td>\n",
       "      <td>216</td>\n",
       "      <td>2</td>\n",
       "      <td>low</td>\n",
       "      <td>M</td>\n",
       "      <td>59</td>\n",
       "      <td>3088</td>\n",
       "      <td>1</td>\n",
       "    </tr>\n",
       "    <tr>\n",
       "      <th>2</th>\n",
       "      <td>3</td>\n",
       "      <td>A</td>\n",
       "      <td>Flight</td>\n",
       "      <td>2</td>\n",
       "      <td>2</td>\n",
       "      <td>183</td>\n",
       "      <td>4</td>\n",
       "      <td>low</td>\n",
       "      <td>M</td>\n",
       "      <td>48</td>\n",
       "      <td>3374</td>\n",
       "      <td>1</td>\n",
       "    </tr>\n",
       "    <tr>\n",
       "      <th>3</th>\n",
       "      <td>4</td>\n",
       "      <td>B</td>\n",
       "      <td>Flight</td>\n",
       "      <td>3</td>\n",
       "      <td>3</td>\n",
       "      <td>176</td>\n",
       "      <td>4</td>\n",
       "      <td>medium</td>\n",
       "      <td>M</td>\n",
       "      <td>10</td>\n",
       "      <td>1177</td>\n",
       "      <td>1</td>\n",
       "    </tr>\n",
       "    <tr>\n",
       "      <th>4</th>\n",
       "      <td>5</td>\n",
       "      <td>C</td>\n",
       "      <td>Flight</td>\n",
       "      <td>2</td>\n",
       "      <td>2</td>\n",
       "      <td>184</td>\n",
       "      <td>3</td>\n",
       "      <td>medium</td>\n",
       "      <td>F</td>\n",
       "      <td>46</td>\n",
       "      <td>2484</td>\n",
       "      <td>1</td>\n",
       "    </tr>\n",
       "  </tbody>\n",
       "</table>\n",
       "</div>"
      ],
      "text/plain": [
       "   ï»¿ID Warehouse_block Mode_of_Shipment  Customer_care_calls  \\\n",
       "0      1               D           Flight                    4   \n",
       "1      2               F           Flight                    4   \n",
       "2      3               A           Flight                    2   \n",
       "3      4               B           Flight                    3   \n",
       "4      5               C           Flight                    2   \n",
       "\n",
       "   Customer_rating  Cost_of_the_Product  Prior_purchases Product_importance  \\\n",
       "0                2                  177                3                low   \n",
       "1                5                  216                2                low   \n",
       "2                2                  183                4                low   \n",
       "3                3                  176                4             medium   \n",
       "4                2                  184                3             medium   \n",
       "\n",
       "  Gender  Discount_offered  Weight_in_gms  Reached.on.Time_Y.N  \n",
       "0      F                44           1233                    1  \n",
       "1      M                59           3088                    1  \n",
       "2      M                48           3374                    1  \n",
       "3      M                10           1177                    1  \n",
       "4      F                46           2484                    1  "
      ]
     },
     "execution_count": 5,
     "metadata": {},
     "output_type": "execute_result"
    }
   ],
   "source": [
    "df.head()"
   ]
  },
  {
   "cell_type": "code",
   "execution_count": 6,
   "id": "db90e05a",
   "metadata": {},
   "outputs": [
    {
     "data": {
      "text/html": [
       "<div>\n",
       "<style scoped>\n",
       "    .dataframe tbody tr th:only-of-type {\n",
       "        vertical-align: middle;\n",
       "    }\n",
       "\n",
       "    .dataframe tbody tr th {\n",
       "        vertical-align: top;\n",
       "    }\n",
       "\n",
       "    .dataframe thead th {\n",
       "        text-align: right;\n",
       "    }\n",
       "</style>\n",
       "<table border=\"1\" class=\"dataframe\">\n",
       "  <thead>\n",
       "    <tr style=\"text-align: right;\">\n",
       "      <th></th>\n",
       "      <th>ï»¿ID</th>\n",
       "      <th>Warehouse_block</th>\n",
       "      <th>Mode_of_Shipment</th>\n",
       "      <th>Customer_care_calls</th>\n",
       "      <th>Customer_rating</th>\n",
       "      <th>Cost_of_the_Product</th>\n",
       "      <th>Prior_purchases</th>\n",
       "      <th>Product_importance</th>\n",
       "      <th>Gender</th>\n",
       "      <th>Discount_offered</th>\n",
       "      <th>Weight_in_gms</th>\n",
       "      <th>Reached.on.Time_Y.N</th>\n",
       "    </tr>\n",
       "  </thead>\n",
       "  <tbody>\n",
       "    <tr>\n",
       "      <th>7120</th>\n",
       "      <td>7121</td>\n",
       "      <td>C</td>\n",
       "      <td>Flight</td>\n",
       "      <td>4</td>\n",
       "      <td>4</td>\n",
       "      <td>260</td>\n",
       "      <td>3</td>\n",
       "      <td>low</td>\n",
       "      <td>M</td>\n",
       "      <td>9</td>\n",
       "      <td>4224</td>\n",
       "      <td>0</td>\n",
       "    </tr>\n",
       "    <tr>\n",
       "      <th>3993</th>\n",
       "      <td>3994</td>\n",
       "      <td>B</td>\n",
       "      <td>Ship</td>\n",
       "      <td>3</td>\n",
       "      <td>3</td>\n",
       "      <td>221</td>\n",
       "      <td>3</td>\n",
       "      <td>high</td>\n",
       "      <td>M</td>\n",
       "      <td>5</td>\n",
       "      <td>4568</td>\n",
       "      <td>1</td>\n",
       "    </tr>\n",
       "    <tr>\n",
       "      <th>3776</th>\n",
       "      <td>3777</td>\n",
       "      <td>A</td>\n",
       "      <td>Ship</td>\n",
       "      <td>4</td>\n",
       "      <td>4</td>\n",
       "      <td>257</td>\n",
       "      <td>10</td>\n",
       "      <td>medium</td>\n",
       "      <td>M</td>\n",
       "      <td>4</td>\n",
       "      <td>4710</td>\n",
       "      <td>0</td>\n",
       "    </tr>\n",
       "    <tr>\n",
       "      <th>2344</th>\n",
       "      <td>2345</td>\n",
       "      <td>C</td>\n",
       "      <td>Flight</td>\n",
       "      <td>4</td>\n",
       "      <td>3</td>\n",
       "      <td>210</td>\n",
       "      <td>3</td>\n",
       "      <td>low</td>\n",
       "      <td>F</td>\n",
       "      <td>46</td>\n",
       "      <td>2344</td>\n",
       "      <td>1</td>\n",
       "    </tr>\n",
       "    <tr>\n",
       "      <th>3353</th>\n",
       "      <td>3354</td>\n",
       "      <td>F</td>\n",
       "      <td>Ship</td>\n",
       "      <td>4</td>\n",
       "      <td>5</td>\n",
       "      <td>190</td>\n",
       "      <td>3</td>\n",
       "      <td>low</td>\n",
       "      <td>M</td>\n",
       "      <td>2</td>\n",
       "      <td>4554</td>\n",
       "      <td>0</td>\n",
       "    </tr>\n",
       "  </tbody>\n",
       "</table>\n",
       "</div>"
      ],
      "text/plain": [
       "      ï»¿ID Warehouse_block Mode_of_Shipment  Customer_care_calls  \\\n",
       "7120   7121               C           Flight                    4   \n",
       "3993   3994               B             Ship                    3   \n",
       "3776   3777               A             Ship                    4   \n",
       "2344   2345               C           Flight                    4   \n",
       "3353   3354               F             Ship                    4   \n",
       "\n",
       "      Customer_rating  Cost_of_the_Product  Prior_purchases  \\\n",
       "7120                4                  260                3   \n",
       "3993                3                  221                3   \n",
       "3776                4                  257               10   \n",
       "2344                3                  210                3   \n",
       "3353                5                  190                3   \n",
       "\n",
       "     Product_importance Gender  Discount_offered  Weight_in_gms  \\\n",
       "7120                low      M                 9           4224   \n",
       "3993               high      M                 5           4568   \n",
       "3776             medium      M                 4           4710   \n",
       "2344                low      F                46           2344   \n",
       "3353                low      M                 2           4554   \n",
       "\n",
       "      Reached.on.Time_Y.N  \n",
       "7120                    0  \n",
       "3993                    1  \n",
       "3776                    0  \n",
       "2344                    1  \n",
       "3353                    0  "
      ]
     },
     "execution_count": 6,
     "metadata": {},
     "output_type": "execute_result"
    }
   ],
   "source": [
    "df.sample(5)"
   ]
  },
  {
   "cell_type": "code",
   "execution_count": 7,
   "id": "3744e75e",
   "metadata": {},
   "outputs": [
    {
     "data": {
      "text/plain": [
       "(10999, 12)"
      ]
     },
     "execution_count": 7,
     "metadata": {},
     "output_type": "execute_result"
    }
   ],
   "source": [
    "df.shape"
   ]
  },
  {
   "cell_type": "code",
   "execution_count": 8,
   "id": "864fe5a3",
   "metadata": {},
   "outputs": [
    {
     "name": "stdout",
     "output_type": "stream",
     "text": [
      "<class 'pandas.core.frame.DataFrame'>\n",
      "RangeIndex: 10999 entries, 0 to 10998\n",
      "Data columns (total 12 columns):\n",
      " #   Column               Non-Null Count  Dtype \n",
      "---  ------               --------------  ----- \n",
      " 0   ï»¿ID                10999 non-null  int64 \n",
      " 1   Warehouse_block      10999 non-null  object\n",
      " 2   Mode_of_Shipment     10999 non-null  object\n",
      " 3   Customer_care_calls  10999 non-null  int64 \n",
      " 4   Customer_rating      10999 non-null  int64 \n",
      " 5   Cost_of_the_Product  10999 non-null  int64 \n",
      " 6   Prior_purchases      10999 non-null  int64 \n",
      " 7   Product_importance   10999 non-null  object\n",
      " 8   Gender               10999 non-null  object\n",
      " 9   Discount_offered     10999 non-null  int64 \n",
      " 10  Weight_in_gms        10999 non-null  int64 \n",
      " 11  Reached.on.Time_Y.N  10999 non-null  int64 \n",
      "dtypes: int64(8), object(4)\n",
      "memory usage: 1.0+ MB\n"
     ]
    }
   ],
   "source": [
    "df.info()"
   ]
  },
  {
   "cell_type": "code",
   "execution_count": 9,
   "id": "a34784b9",
   "metadata": {},
   "outputs": [
    {
     "data": {
      "text/plain": [
       "ï»¿ID                  0\n",
       "Warehouse_block        0\n",
       "Mode_of_Shipment       0\n",
       "Customer_care_calls    0\n",
       "Customer_rating        0\n",
       "Cost_of_the_Product    0\n",
       "Prior_purchases        0\n",
       "Product_importance     0\n",
       "Gender                 0\n",
       "Discount_offered       0\n",
       "Weight_in_gms          0\n",
       "Reached.on.Time_Y.N    0\n",
       "dtype: int64"
      ]
     },
     "execution_count": 9,
     "metadata": {},
     "output_type": "execute_result"
    }
   ],
   "source": [
    "df.isna().sum() # No NaN values in the dataset"
   ]
  },
  {
   "cell_type": "code",
   "execution_count": 10,
   "id": "3d283a51",
   "metadata": {},
   "outputs": [],
   "source": [
    "# After doing the first visualization of the dataset, I have decided to analyze the below hypothesis / questions which I think will be key for the company:\n",
    "# 1. What is the most effective mode of shipment? Relating mode of shipment column with customer care calls & reached on time columns\n",
    "# 2. How many loyal customers do we have? Those with 5 or more prior purchases, do they give the company a higher rating? Also, do we offer them more discounts?\n",
    "# 3. For those products considered with high importance and also the most expensive ones, what is the rating we have from our customers on those?\n",
    "# 4. Is there a specific warehouse block which is giving us more issues? Relating warehouse_block with reached on time columnn "
   ]
  },
  {
   "cell_type": "code",
   "execution_count": 11,
   "id": "ad30b19f",
   "metadata": {},
   "outputs": [],
   "source": [
    "# 1. What is the most effective mode of shipment? Relating mode of shipment column with customer care calls & reached on time columns"
   ]
  },
  {
   "cell_type": "code",
   "execution_count": 12,
   "id": "7f897ec2",
   "metadata": {
    "scrolled": true
   },
   "outputs": [
    {
     "data": {
      "text/plain": [
       "Ship      7462\n",
       "Flight    1777\n",
       "Road      1760\n",
       "Name: Mode_of_Shipment, dtype: int64"
      ]
     },
     "execution_count": 12,
     "metadata": {},
     "output_type": "execute_result"
    }
   ],
   "source": [
    "df['Mode_of_Shipment'].value_counts() # Most of the packages are shipped via ship "
   ]
  },
  {
   "cell_type": "code",
   "execution_count": 13,
   "id": "423bd800",
   "metadata": {},
   "outputs": [
    {
     "data": {
      "text/plain": [
       "4    3557\n",
       "3    3217\n",
       "5    2328\n",
       "6    1013\n",
       "2     638\n",
       "7     246\n",
       "Name: Customer_care_calls, dtype: int64"
      ]
     },
     "execution_count": 13,
     "metadata": {},
     "output_type": "execute_result"
    }
   ],
   "source": [
    "df['Customer_care_calls'].value_counts() # Minimum of calls per shipment is 2 and maximum is 7"
   ]
  },
  {
   "cell_type": "code",
   "execution_count": 14,
   "id": "9b5dc6b6",
   "metadata": {},
   "outputs": [
    {
     "data": {
      "text/plain": [
       "4.054459496317847"
      ]
     },
     "execution_count": 14,
     "metadata": {},
     "output_type": "execute_result"
    }
   ],
   "source": [
    "df['Customer_care_calls'].mean() # Average is 4 calls per shipment"
   ]
  },
  {
   "cell_type": "code",
   "execution_count": 15,
   "id": "405331af",
   "metadata": {},
   "outputs": [
    {
     "data": {
      "text/plain": [
       "1    6563\n",
       "0    4436\n",
       "Name: Reached.on.Time_Y.N, dtype: int64"
      ]
     },
     "execution_count": 15,
     "metadata": {},
     "output_type": "execute_result"
    }
   ],
   "source": [
    "df['Reached.on.Time_Y.N'].value_counts() # 60% of the shipments are reached on time"
   ]
  },
  {
   "cell_type": "code",
   "execution_count": 16,
   "id": "85662f7a",
   "metadata": {},
   "outputs": [],
   "source": [
    "# 2. How many loyal customers do we have? Those with 5 or more prior purchases, do they give the company a higher rating? Also, do we offer them more discounts?"
   ]
  },
  {
   "cell_type": "code",
   "execution_count": 17,
   "id": "aaf5fcf4",
   "metadata": {},
   "outputs": [
    {
     "data": {
      "text/plain": [
       "3     3955\n",
       "2     2599\n",
       "4     2155\n",
       "5     1287\n",
       "6      561\n",
       "10     178\n",
       "7      136\n",
       "8      128\n",
       "Name: Prior_purchases, dtype: int64"
      ]
     },
     "execution_count": 17,
     "metadata": {},
     "output_type": "execute_result"
    }
   ],
   "source": [
    "df['Prior_purchases'].value_counts() "
   ]
  },
  {
   "cell_type": "code",
   "execution_count": 18,
   "id": "cd7a8837",
   "metadata": {},
   "outputs": [
    {
     "data": {
      "text/plain": [
       "3    2239\n",
       "1    2235\n",
       "4    2189\n",
       "5    2171\n",
       "2    2165\n",
       "Name: Customer_rating, dtype: int64"
      ]
     },
     "execution_count": 18,
     "metadata": {},
     "output_type": "execute_result"
    }
   ],
   "source": [
    "df['Customer_rating'].value_counts()"
   ]
  },
  {
   "cell_type": "code",
   "execution_count": 19,
   "id": "203536a9",
   "metadata": {},
   "outputs": [
    {
     "data": {
      "text/plain": [
       "2.9905445949631786"
      ]
     },
     "execution_count": 19,
     "metadata": {},
     "output_type": "execute_result"
    }
   ],
   "source": [
    "df['Customer_rating'].mean() # Average rating is 3 over 5 - the company should try to increase that number at least to 3.5"
   ]
  },
  {
   "cell_type": "code",
   "execution_count": 20,
   "id": "fb9b8d02",
   "metadata": {},
   "outputs": [],
   "source": [
    "# In order to see the loyalty of a customer, I have established that if the customer has 5 or more prior purchases it is a loyal cusrtomer.\n",
    "# To make the distinction between the customers I have created a new column in the dataset. "
   ]
  },
  {
   "cell_type": "code",
   "execution_count": 21,
   "id": "98e9c4aa",
   "metadata": {},
   "outputs": [],
   "source": [
    "df['Customer_loyalty'] = df['Prior_purchases'].apply(fc.loyal_customer)"
   ]
  },
  {
   "cell_type": "code",
   "execution_count": 22,
   "id": "8bbe5863",
   "metadata": {},
   "outputs": [
    {
     "data": {
      "text/html": [
       "<div>\n",
       "<style scoped>\n",
       "    .dataframe tbody tr th:only-of-type {\n",
       "        vertical-align: middle;\n",
       "    }\n",
       "\n",
       "    .dataframe tbody tr th {\n",
       "        vertical-align: top;\n",
       "    }\n",
       "\n",
       "    .dataframe thead th {\n",
       "        text-align: right;\n",
       "    }\n",
       "</style>\n",
       "<table border=\"1\" class=\"dataframe\">\n",
       "  <thead>\n",
       "    <tr style=\"text-align: right;\">\n",
       "      <th></th>\n",
       "      <th>ï»¿ID</th>\n",
       "      <th>Warehouse_block</th>\n",
       "      <th>Mode_of_Shipment</th>\n",
       "      <th>Customer_care_calls</th>\n",
       "      <th>Customer_rating</th>\n",
       "      <th>Cost_of_the_Product</th>\n",
       "      <th>Prior_purchases</th>\n",
       "      <th>Product_importance</th>\n",
       "      <th>Gender</th>\n",
       "      <th>Discount_offered</th>\n",
       "      <th>Weight_in_gms</th>\n",
       "      <th>Reached.on.Time_Y.N</th>\n",
       "      <th>Customer_loyalty</th>\n",
       "    </tr>\n",
       "  </thead>\n",
       "  <tbody>\n",
       "    <tr>\n",
       "      <th>0</th>\n",
       "      <td>1</td>\n",
       "      <td>D</td>\n",
       "      <td>Flight</td>\n",
       "      <td>4</td>\n",
       "      <td>2</td>\n",
       "      <td>177</td>\n",
       "      <td>3</td>\n",
       "      <td>low</td>\n",
       "      <td>F</td>\n",
       "      <td>44</td>\n",
       "      <td>1233</td>\n",
       "      <td>1</td>\n",
       "      <td>Not Loyal</td>\n",
       "    </tr>\n",
       "    <tr>\n",
       "      <th>1</th>\n",
       "      <td>2</td>\n",
       "      <td>F</td>\n",
       "      <td>Flight</td>\n",
       "      <td>4</td>\n",
       "      <td>5</td>\n",
       "      <td>216</td>\n",
       "      <td>2</td>\n",
       "      <td>low</td>\n",
       "      <td>M</td>\n",
       "      <td>59</td>\n",
       "      <td>3088</td>\n",
       "      <td>1</td>\n",
       "      <td>Not Loyal</td>\n",
       "    </tr>\n",
       "    <tr>\n",
       "      <th>2</th>\n",
       "      <td>3</td>\n",
       "      <td>A</td>\n",
       "      <td>Flight</td>\n",
       "      <td>2</td>\n",
       "      <td>2</td>\n",
       "      <td>183</td>\n",
       "      <td>4</td>\n",
       "      <td>low</td>\n",
       "      <td>M</td>\n",
       "      <td>48</td>\n",
       "      <td>3374</td>\n",
       "      <td>1</td>\n",
       "      <td>Not Loyal</td>\n",
       "    </tr>\n",
       "    <tr>\n",
       "      <th>3</th>\n",
       "      <td>4</td>\n",
       "      <td>B</td>\n",
       "      <td>Flight</td>\n",
       "      <td>3</td>\n",
       "      <td>3</td>\n",
       "      <td>176</td>\n",
       "      <td>4</td>\n",
       "      <td>medium</td>\n",
       "      <td>M</td>\n",
       "      <td>10</td>\n",
       "      <td>1177</td>\n",
       "      <td>1</td>\n",
       "      <td>Not Loyal</td>\n",
       "    </tr>\n",
       "    <tr>\n",
       "      <th>4</th>\n",
       "      <td>5</td>\n",
       "      <td>C</td>\n",
       "      <td>Flight</td>\n",
       "      <td>2</td>\n",
       "      <td>2</td>\n",
       "      <td>184</td>\n",
       "      <td>3</td>\n",
       "      <td>medium</td>\n",
       "      <td>F</td>\n",
       "      <td>46</td>\n",
       "      <td>2484</td>\n",
       "      <td>1</td>\n",
       "      <td>Not Loyal</td>\n",
       "    </tr>\n",
       "  </tbody>\n",
       "</table>\n",
       "</div>"
      ],
      "text/plain": [
       "   ï»¿ID Warehouse_block Mode_of_Shipment  Customer_care_calls  \\\n",
       "0      1               D           Flight                    4   \n",
       "1      2               F           Flight                    4   \n",
       "2      3               A           Flight                    2   \n",
       "3      4               B           Flight                    3   \n",
       "4      5               C           Flight                    2   \n",
       "\n",
       "   Customer_rating  Cost_of_the_Product  Prior_purchases Product_importance  \\\n",
       "0                2                  177                3                low   \n",
       "1                5                  216                2                low   \n",
       "2                2                  183                4                low   \n",
       "3                3                  176                4             medium   \n",
       "4                2                  184                3             medium   \n",
       "\n",
       "  Gender  Discount_offered  Weight_in_gms  Reached.on.Time_Y.N  \\\n",
       "0      F                44           1233                    1   \n",
       "1      M                59           3088                    1   \n",
       "2      M                48           3374                    1   \n",
       "3      M                10           1177                    1   \n",
       "4      F                46           2484                    1   \n",
       "\n",
       "  Customer_loyalty  \n",
       "0        Not Loyal  \n",
       "1        Not Loyal  \n",
       "2        Not Loyal  \n",
       "3        Not Loyal  \n",
       "4        Not Loyal  "
      ]
     },
     "execution_count": 22,
     "metadata": {},
     "output_type": "execute_result"
    }
   ],
   "source": [
    "df.head()"
   ]
  },
  {
   "cell_type": "code",
   "execution_count": 23,
   "id": "d3ab78fc",
   "metadata": {},
   "outputs": [],
   "source": [
    "# Now to make easier to see if the rating is high or not, I have grouped the customer rating in 2 ranges"
   ]
  },
  {
   "cell_type": "code",
   "execution_count": 24,
   "id": "08a6eb05",
   "metadata": {},
   "outputs": [],
   "source": [
    "df['Customer_rating_range'] = df['Customer_rating'].apply(fc.customer_rating)"
   ]
  },
  {
   "cell_type": "code",
   "execution_count": 25,
   "id": "2d592f6c",
   "metadata": {},
   "outputs": [
    {
     "data": {
      "text/html": [
       "<div>\n",
       "<style scoped>\n",
       "    .dataframe tbody tr th:only-of-type {\n",
       "        vertical-align: middle;\n",
       "    }\n",
       "\n",
       "    .dataframe tbody tr th {\n",
       "        vertical-align: top;\n",
       "    }\n",
       "\n",
       "    .dataframe thead th {\n",
       "        text-align: right;\n",
       "    }\n",
       "</style>\n",
       "<table border=\"1\" class=\"dataframe\">\n",
       "  <thead>\n",
       "    <tr style=\"text-align: right;\">\n",
       "      <th></th>\n",
       "      <th>ï»¿ID</th>\n",
       "      <th>Warehouse_block</th>\n",
       "      <th>Mode_of_Shipment</th>\n",
       "      <th>Customer_care_calls</th>\n",
       "      <th>Customer_rating</th>\n",
       "      <th>Cost_of_the_Product</th>\n",
       "      <th>Prior_purchases</th>\n",
       "      <th>Product_importance</th>\n",
       "      <th>Gender</th>\n",
       "      <th>Discount_offered</th>\n",
       "      <th>Weight_in_gms</th>\n",
       "      <th>Reached.on.Time_Y.N</th>\n",
       "      <th>Customer_loyalty</th>\n",
       "      <th>Customer_rating_range</th>\n",
       "    </tr>\n",
       "  </thead>\n",
       "  <tbody>\n",
       "    <tr>\n",
       "      <th>0</th>\n",
       "      <td>1</td>\n",
       "      <td>D</td>\n",
       "      <td>Flight</td>\n",
       "      <td>4</td>\n",
       "      <td>2</td>\n",
       "      <td>177</td>\n",
       "      <td>3</td>\n",
       "      <td>low</td>\n",
       "      <td>F</td>\n",
       "      <td>44</td>\n",
       "      <td>1233</td>\n",
       "      <td>1</td>\n",
       "      <td>Not Loyal</td>\n",
       "      <td>Rating 1 - 3</td>\n",
       "    </tr>\n",
       "    <tr>\n",
       "      <th>1</th>\n",
       "      <td>2</td>\n",
       "      <td>F</td>\n",
       "      <td>Flight</td>\n",
       "      <td>4</td>\n",
       "      <td>5</td>\n",
       "      <td>216</td>\n",
       "      <td>2</td>\n",
       "      <td>low</td>\n",
       "      <td>M</td>\n",
       "      <td>59</td>\n",
       "      <td>3088</td>\n",
       "      <td>1</td>\n",
       "      <td>Not Loyal</td>\n",
       "      <td>Rating 4 - 5</td>\n",
       "    </tr>\n",
       "    <tr>\n",
       "      <th>2</th>\n",
       "      <td>3</td>\n",
       "      <td>A</td>\n",
       "      <td>Flight</td>\n",
       "      <td>2</td>\n",
       "      <td>2</td>\n",
       "      <td>183</td>\n",
       "      <td>4</td>\n",
       "      <td>low</td>\n",
       "      <td>M</td>\n",
       "      <td>48</td>\n",
       "      <td>3374</td>\n",
       "      <td>1</td>\n",
       "      <td>Not Loyal</td>\n",
       "      <td>Rating 1 - 3</td>\n",
       "    </tr>\n",
       "    <tr>\n",
       "      <th>3</th>\n",
       "      <td>4</td>\n",
       "      <td>B</td>\n",
       "      <td>Flight</td>\n",
       "      <td>3</td>\n",
       "      <td>3</td>\n",
       "      <td>176</td>\n",
       "      <td>4</td>\n",
       "      <td>medium</td>\n",
       "      <td>M</td>\n",
       "      <td>10</td>\n",
       "      <td>1177</td>\n",
       "      <td>1</td>\n",
       "      <td>Not Loyal</td>\n",
       "      <td>Rating 1 - 3</td>\n",
       "    </tr>\n",
       "    <tr>\n",
       "      <th>4</th>\n",
       "      <td>5</td>\n",
       "      <td>C</td>\n",
       "      <td>Flight</td>\n",
       "      <td>2</td>\n",
       "      <td>2</td>\n",
       "      <td>184</td>\n",
       "      <td>3</td>\n",
       "      <td>medium</td>\n",
       "      <td>F</td>\n",
       "      <td>46</td>\n",
       "      <td>2484</td>\n",
       "      <td>1</td>\n",
       "      <td>Not Loyal</td>\n",
       "      <td>Rating 1 - 3</td>\n",
       "    </tr>\n",
       "  </tbody>\n",
       "</table>\n",
       "</div>"
      ],
      "text/plain": [
       "   ï»¿ID Warehouse_block Mode_of_Shipment  Customer_care_calls  \\\n",
       "0      1               D           Flight                    4   \n",
       "1      2               F           Flight                    4   \n",
       "2      3               A           Flight                    2   \n",
       "3      4               B           Flight                    3   \n",
       "4      5               C           Flight                    2   \n",
       "\n",
       "   Customer_rating  Cost_of_the_Product  Prior_purchases Product_importance  \\\n",
       "0                2                  177                3                low   \n",
       "1                5                  216                2                low   \n",
       "2                2                  183                4                low   \n",
       "3                3                  176                4             medium   \n",
       "4                2                  184                3             medium   \n",
       "\n",
       "  Gender  Discount_offered  Weight_in_gms  Reached.on.Time_Y.N  \\\n",
       "0      F                44           1233                    1   \n",
       "1      M                59           3088                    1   \n",
       "2      M                48           3374                    1   \n",
       "3      M                10           1177                    1   \n",
       "4      F                46           2484                    1   \n",
       "\n",
       "  Customer_loyalty Customer_rating_range  \n",
       "0        Not Loyal          Rating 1 - 3  \n",
       "1        Not Loyal          Rating 4 - 5  \n",
       "2        Not Loyal          Rating 1 - 3  \n",
       "3        Not Loyal          Rating 1 - 3  \n",
       "4        Not Loyal          Rating 1 - 3  "
      ]
     },
     "execution_count": 25,
     "metadata": {},
     "output_type": "execute_result"
    }
   ],
   "source": [
    "df.head()"
   ]
  },
  {
   "cell_type": "code",
   "execution_count": 26,
   "id": "d020e2dc",
   "metadata": {},
   "outputs": [
    {
     "data": {
      "text/plain": [
       "array([44, 59, 48, 10, 46, 12,  3, 11, 29, 32,  1, 43, 45,  6, 36, 18, 38,\n",
       "       51,  2, 28, 24, 31, 61, 22,  4, 62, 16, 56, 15,  9, 40, 37, 41, 17,\n",
       "       64, 52, 49, 39, 14, 33, 21, 13, 23, 26, 57,  7, 35,  8,  5, 53, 55,\n",
       "       47, 65, 25, 50, 60, 20, 19, 63, 58, 34, 54, 27, 42, 30])"
      ]
     },
     "execution_count": 26,
     "metadata": {},
     "output_type": "execute_result"
    }
   ],
   "source": [
    "df['Discount_offered'].unique() # The figures of discounts are all between 0 and 100 so that column represents the discount % offered"
   ]
  },
  {
   "cell_type": "code",
   "execution_count": 27,
   "id": "ca6d6fd8",
   "metadata": {},
   "outputs": [],
   "source": [
    "df['Discount_%_range'] = df['Discount_offered'].apply(fc.percentage_range)"
   ]
  },
  {
   "cell_type": "code",
   "execution_count": 28,
   "id": "c7dfdcc5",
   "metadata": {
    "scrolled": true
   },
   "outputs": [
    {
     "data": {
      "text/html": [
       "<div>\n",
       "<style scoped>\n",
       "    .dataframe tbody tr th:only-of-type {\n",
       "        vertical-align: middle;\n",
       "    }\n",
       "\n",
       "    .dataframe tbody tr th {\n",
       "        vertical-align: top;\n",
       "    }\n",
       "\n",
       "    .dataframe thead th {\n",
       "        text-align: right;\n",
       "    }\n",
       "</style>\n",
       "<table border=\"1\" class=\"dataframe\">\n",
       "  <thead>\n",
       "    <tr style=\"text-align: right;\">\n",
       "      <th></th>\n",
       "      <th>ï»¿ID</th>\n",
       "      <th>Warehouse_block</th>\n",
       "      <th>Mode_of_Shipment</th>\n",
       "      <th>Customer_care_calls</th>\n",
       "      <th>Customer_rating</th>\n",
       "      <th>Cost_of_the_Product</th>\n",
       "      <th>Prior_purchases</th>\n",
       "      <th>Product_importance</th>\n",
       "      <th>Gender</th>\n",
       "      <th>Discount_offered</th>\n",
       "      <th>Weight_in_gms</th>\n",
       "      <th>Reached.on.Time_Y.N</th>\n",
       "      <th>Customer_loyalty</th>\n",
       "      <th>Customer_rating_range</th>\n",
       "      <th>Discount_%_range</th>\n",
       "    </tr>\n",
       "  </thead>\n",
       "  <tbody>\n",
       "    <tr>\n",
       "      <th>0</th>\n",
       "      <td>1</td>\n",
       "      <td>D</td>\n",
       "      <td>Flight</td>\n",
       "      <td>4</td>\n",
       "      <td>2</td>\n",
       "      <td>177</td>\n",
       "      <td>3</td>\n",
       "      <td>low</td>\n",
       "      <td>F</td>\n",
       "      <td>44</td>\n",
       "      <td>1233</td>\n",
       "      <td>1</td>\n",
       "      <td>Not Loyal</td>\n",
       "      <td>Rating 1 - 3</td>\n",
       "      <td>(41% - 60%)</td>\n",
       "    </tr>\n",
       "    <tr>\n",
       "      <th>1</th>\n",
       "      <td>2</td>\n",
       "      <td>F</td>\n",
       "      <td>Flight</td>\n",
       "      <td>4</td>\n",
       "      <td>5</td>\n",
       "      <td>216</td>\n",
       "      <td>2</td>\n",
       "      <td>low</td>\n",
       "      <td>M</td>\n",
       "      <td>59</td>\n",
       "      <td>3088</td>\n",
       "      <td>1</td>\n",
       "      <td>Not Loyal</td>\n",
       "      <td>Rating 4 - 5</td>\n",
       "      <td>(41% - 60%)</td>\n",
       "    </tr>\n",
       "    <tr>\n",
       "      <th>2</th>\n",
       "      <td>3</td>\n",
       "      <td>A</td>\n",
       "      <td>Flight</td>\n",
       "      <td>2</td>\n",
       "      <td>2</td>\n",
       "      <td>183</td>\n",
       "      <td>4</td>\n",
       "      <td>low</td>\n",
       "      <td>M</td>\n",
       "      <td>48</td>\n",
       "      <td>3374</td>\n",
       "      <td>1</td>\n",
       "      <td>Not Loyal</td>\n",
       "      <td>Rating 1 - 3</td>\n",
       "      <td>(41% - 60%)</td>\n",
       "    </tr>\n",
       "    <tr>\n",
       "      <th>3</th>\n",
       "      <td>4</td>\n",
       "      <td>B</td>\n",
       "      <td>Flight</td>\n",
       "      <td>3</td>\n",
       "      <td>3</td>\n",
       "      <td>176</td>\n",
       "      <td>4</td>\n",
       "      <td>medium</td>\n",
       "      <td>M</td>\n",
       "      <td>10</td>\n",
       "      <td>1177</td>\n",
       "      <td>1</td>\n",
       "      <td>Not Loyal</td>\n",
       "      <td>Rating 1 - 3</td>\n",
       "      <td>(0% - 20%)</td>\n",
       "    </tr>\n",
       "    <tr>\n",
       "      <th>4</th>\n",
       "      <td>5</td>\n",
       "      <td>C</td>\n",
       "      <td>Flight</td>\n",
       "      <td>2</td>\n",
       "      <td>2</td>\n",
       "      <td>184</td>\n",
       "      <td>3</td>\n",
       "      <td>medium</td>\n",
       "      <td>F</td>\n",
       "      <td>46</td>\n",
       "      <td>2484</td>\n",
       "      <td>1</td>\n",
       "      <td>Not Loyal</td>\n",
       "      <td>Rating 1 - 3</td>\n",
       "      <td>(41% - 60%)</td>\n",
       "    </tr>\n",
       "  </tbody>\n",
       "</table>\n",
       "</div>"
      ],
      "text/plain": [
       "   ï»¿ID Warehouse_block Mode_of_Shipment  Customer_care_calls  \\\n",
       "0      1               D           Flight                    4   \n",
       "1      2               F           Flight                    4   \n",
       "2      3               A           Flight                    2   \n",
       "3      4               B           Flight                    3   \n",
       "4      5               C           Flight                    2   \n",
       "\n",
       "   Customer_rating  Cost_of_the_Product  Prior_purchases Product_importance  \\\n",
       "0                2                  177                3                low   \n",
       "1                5                  216                2                low   \n",
       "2                2                  183                4                low   \n",
       "3                3                  176                4             medium   \n",
       "4                2                  184                3             medium   \n",
       "\n",
       "  Gender  Discount_offered  Weight_in_gms  Reached.on.Time_Y.N  \\\n",
       "0      F                44           1233                    1   \n",
       "1      M                59           3088                    1   \n",
       "2      M                48           3374                    1   \n",
       "3      M                10           1177                    1   \n",
       "4      F                46           2484                    1   \n",
       "\n",
       "  Customer_loyalty Customer_rating_range Discount_%_range  \n",
       "0        Not Loyal          Rating 1 - 3      (41% - 60%)  \n",
       "1        Not Loyal          Rating 4 - 5      (41% - 60%)  \n",
       "2        Not Loyal          Rating 1 - 3      (41% - 60%)  \n",
       "3        Not Loyal          Rating 1 - 3       (0% - 20%)  \n",
       "4        Not Loyal          Rating 1 - 3      (41% - 60%)  "
      ]
     },
     "execution_count": 28,
     "metadata": {},
     "output_type": "execute_result"
    }
   ],
   "source": [
    "df.head()"
   ]
  },
  {
   "cell_type": "code",
   "execution_count": 29,
   "id": "c793f914",
   "metadata": {},
   "outputs": [],
   "source": [
    "# 3. For those products considered with high importance and also the most expensive ones, what is the rating we have from our customers on those? Also, the most important products are those who arrive on time more than the other 2?"
   ]
  },
  {
   "cell_type": "code",
   "execution_count": 30,
   "id": "5111c53d",
   "metadata": {},
   "outputs": [
    {
     "data": {
      "text/plain": [
       "low       5297\n",
       "medium    4754\n",
       "high       948\n",
       "Name: Product_importance, dtype: int64"
      ]
     },
     "execution_count": 30,
     "metadata": {},
     "output_type": "execute_result"
    }
   ],
   "source": [
    "df['Product_importance'].value_counts()"
   ]
  },
  {
   "cell_type": "code",
   "execution_count": 31,
   "id": "90db78aa",
   "metadata": {},
   "outputs": [
    {
     "data": {
      "text/plain": [
       "array([177, 216, 183, 176, 184, 162, 250, 233, 150, 164, 189, 232, 198,\n",
       "       275, 152, 227, 143, 239, 145, 161, 156, 211, 251, 225, 172, 234,\n",
       "       266, 257, 223, 149, 137, 181, 215, 269, 139, 174, 151, 210, 169,\n",
       "       160, 190, 141, 165, 170, 203, 246, 238, 193, 221, 179, 105, 261,\n",
       "       202, 109, 158, 231, 206, 187, 230, 113, 180, 132, 217, 197, 185,\n",
       "       278, 229, 186, 286, 175, 219, 213, 235, 271, 144, 218, 263, 168,\n",
       "       265, 205, 252, 222, 220, 147, 200, 224, 247, 280, 157, 207, 237,\n",
       "       264, 248, 191, 146, 135,  98,  97, 114, 112, 274, 166, 148, 270,\n",
       "       242, 192, 116, 255, 209, 134, 130, 133, 140, 136, 142, 154, 155,\n",
       "       127, 129, 159, 294, 226, 258, 241, 208, 182, 115, 212, 171, 249,\n",
       "       243, 163, 272, 138, 273, 279, 173, 194, 262, 201, 260, 188, 267,\n",
       "       131, 122, 103, 199, 236, 167, 259, 178, 123, 124,  96, 244, 254,\n",
       "       128, 204, 245, 228, 268, 108, 276, 214, 281, 253, 104, 240, 121,\n",
       "       153, 111, 117, 195, 110, 119, 196, 291, 118, 283, 100, 256, 285,\n",
       "       284, 101, 296, 277, 106, 282, 126, 102, 120,  99, 125, 107, 301,\n",
       "       290, 310, 308, 300, 303, 306, 292, 293, 295, 304, 298, 305, 287,\n",
       "       309, 302, 307, 289, 297, 299, 288])"
      ]
     },
     "execution_count": 31,
     "metadata": {},
     "output_type": "execute_result"
    }
   ],
   "source": [
    "df['Cost_of_the_Product'].unique()"
   ]
  },
  {
   "cell_type": "code",
   "execution_count": 32,
   "id": "c8452154",
   "metadata": {},
   "outputs": [
    {
     "data": {
      "text/plain": [
       "96"
      ]
     },
     "execution_count": 32,
     "metadata": {},
     "output_type": "execute_result"
    }
   ],
   "source": [
    "df['Cost_of_the_Product'].min() # Cheapest product is $96"
   ]
  },
  {
   "cell_type": "code",
   "execution_count": 33,
   "id": "a9d1f3d7",
   "metadata": {},
   "outputs": [
    {
     "data": {
      "text/plain": [
       "310"
      ]
     },
     "execution_count": 33,
     "metadata": {},
     "output_type": "execute_result"
    }
   ],
   "source": [
    "df['Cost_of_the_Product'].max() # While the most expensive is $310"
   ]
  },
  {
   "cell_type": "code",
   "execution_count": 34,
   "id": "3085eb22",
   "metadata": {},
   "outputs": [],
   "source": [
    "# 4. Is there a specific warehouse block which is giving us more issues? Relating warehouse_block with reached on time columnn "
   ]
  },
  {
   "cell_type": "code",
   "execution_count": 35,
   "id": "4fd5f388",
   "metadata": {},
   "outputs": [
    {
     "data": {
      "text/plain": [
       "F    3666\n",
       "D    1834\n",
       "A    1833\n",
       "B    1833\n",
       "C    1833\n",
       "Name: Warehouse_block, dtype: int64"
      ]
     },
     "execution_count": 35,
     "metadata": {},
     "output_type": "execute_result"
    }
   ],
   "source": [
    "df['Warehouse_block'].value_counts() # Block F from the warehouse is the one that ships more products (the double than the rest)"
   ]
  },
  {
   "cell_type": "code",
   "execution_count": 36,
   "id": "7e60b326",
   "metadata": {},
   "outputs": [],
   "source": [
    "df.to_csv('../data/train_clean.csv')"
   ]
  }
 ],
 "metadata": {
  "kernelspec": {
   "display_name": "ironhack",
   "language": "python",
   "name": "ironhack"
  },
  "language_info": {
   "codemirror_mode": {
    "name": "ipython",
    "version": 3
   },
   "file_extension": ".py",
   "mimetype": "text/x-python",
   "name": "python",
   "nbconvert_exporter": "python",
   "pygments_lexer": "ipython3",
   "version": "3.8.10"
  }
 },
 "nbformat": 4,
 "nbformat_minor": 5
}
